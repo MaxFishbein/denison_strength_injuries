{
 "cells": [
  {
   "cell_type": "code",
   "execution_count": 4,
   "id": "b8d8f7f4",
   "metadata": {},
   "outputs": [
    {
     "name": "stdout",
     "output_type": "stream",
     "text": [
      "New Working Directory: /Users/maxfishbein/Documents/GitHub/denison_strength_injuries/denison_strength\n"
     ]
    }
   ],
   "source": [
    "import os\n",
    "import pandas as pd\n",
    "\n",
    "#Creating the directory I want to work in \n",
    "# Change the current working directory\n",
    "os.chdir('/Users/maxfishbein/Documents/GitHub/denison_strength_injuries/denison_strength')\n",
    "# Verify the change\n",
    "current_directory = os.getcwd()\n",
    "print(\"New Working Directory:\", current_directory)\n"
   ]
  },
  {
   "cell_type": "code",
   "execution_count": 5,
   "id": "5375dc44",
   "metadata": {},
   "outputs": [
    {
     "name": "stdout",
     "output_type": "stream",
     "text": [
      "     Code                                 Organizations ProblemReportedBy  \\\n",
      "0     FH4                                  Field Hockey      ElyssaLaBine   \n",
      "1  WT&F21  Women's Cross Country, Women's Track & Field     ScottEnneking   \n",
      "2    FH12                                  Field Hockey      ElyssaLaBine   \n",
      "3    MTE2                                  Men's Tennis      ElyssaLaBine   \n",
      "4  MT&F24                           Men's Track & Field     ScottEnneking   \n",
      "5    FH11                                  Field Hockey      ElyssaLaBine   \n",
      "6     SB2                                      Softball      LoganKittaka   \n",
      "7    WTE9                                Women's Tennis      ElyssaLaBine   \n",
      "8   WBB14                            Women's Basketball      ElyssaLaBine   \n",
      "9      G5                                    Men's Golf      TriciaHarris   \n",
      "\n",
      "  ProblemDate DateOfReturn ReportedDate  BodyPart     AffectedArea  \\\n",
      "0  02-28-2024            -   02-28-2024       Hip  Lower Extremity   \n",
      "1  02-27-2024            -   02-27-2024     Brain             Head   \n",
      "2  02-26-2024            -   02-26-2024     Ankle  Lower Extremity   \n",
      "3  02-26-2024            -   02-26-2024     Ankle  Lower Extremity   \n",
      "4  02-24-2024            -   02-27-2024     Brain             Head   \n",
      "5  02-23-2024            -   02-23-2024    Sacrum            Torso   \n",
      "6  02-22-2024            -   02-22-2024      Knee  Lower Extremity   \n",
      "7  02-22-2024            -   02-22-2024     Brain             Head   \n",
      "8  02-22-2024            -   02-22-2024      Knee  Lower Extremity   \n",
      "9  02-22-2024            -   02-27-2024  Shoulder  Upper Extremity   \n",
      "\n",
      "             Side           InjuryType      BodyPartName  \\\n",
      "0           Right     Other Hip Injury               NaN   \n",
      "1             NaN           Concussion               NaN   \n",
      "2           Right             Bursitis               NaN   \n",
      "3           Right             Bursitis               NaN   \n",
      "4             NaN           Concussion               NaN   \n",
      "5           Right                Other               NaN   \n",
      "6            Left  Knee pain (finding)               NaN   \n",
      "7  Does Not Apply           Concussion               NaN   \n",
      "8            Left    Other Knee Injury               NaN   \n",
      "9           Right               Strain  Pectoralis Minor   \n",
      "\n",
      "  IncidentReportCreatedBy IncidentReportCreatedOnDate  \\\n",
      "0                     NaN                           -   \n",
      "1                     NaN                           -   \n",
      "2                     NaN                           -   \n",
      "3                     NaN                           -   \n",
      "4                     NaN                           -   \n",
      "5                     NaN                           -   \n",
      "6                     NaN                           -   \n",
      "7                     NaN                           -   \n",
      "8            ElyssaLaBine                  02-23-2024   \n",
      "9                     NaN                           -   \n",
      "\n",
      "                   CurrentStatus  \n",
      "0               Limited Activity  \n",
      "1                    Not Cleared  \n",
      "2               Limited Activity  \n",
      "3  Returned To Play As Tolerated  \n",
      "4               Limited Activity  \n",
      "5  Returned To Play As Tolerated  \n",
      "6  Returned To Play As Tolerated  \n",
      "7               Limited Activity  \n",
      "8  Returned To Play As Tolerated  \n",
      "9  Returned To Play As Tolerated  \n"
     ]
    }
   ],
   "source": [
    "# Now you can use a relative path\n",
    "csv_feb = 'coded_injuries_feb_24.csv'\n",
    "# Load the CSV file into a DataFrame\n",
    "df_feb = pd.read_csv(csv_feb)\n",
    "\n",
    "# Display the first few rows of the DataFrame\n",
    "print(df_feb.head(10))"
   ]
  },
  {
   "cell_type": "code",
   "execution_count": 6,
   "id": "27307518",
   "metadata": {},
   "outputs": [
    {
     "name": "stdout",
     "output_type": "stream",
     "text": [
      "     Code                             Organizations          Teams  \\\n",
      "0  MLAX50                            Men's Lacrosse            NaN   \n",
      "1  MLAX50                            Men's Lacrosse            NaN   \n",
      "2  WT&F34                     Women's Track & Field            NaN   \n",
      "3    WTE4                            Women's Tennis            NaN   \n",
      "4   MT&F1                       Men's Cross Country            NaN   \n",
      "5    FB98                                  Football            NaN   \n",
      "6  MLAX24                            Men's Lacrosse            NaN   \n",
      "7  MT&F10  Men's Cross Country, Men's Track & Field            NaN   \n",
      "8    WTE4                            Women's Tennis            NaN   \n",
      "9    FB66                                  Football  Club M. Rugby   \n",
      "\n",
      "  ProblemDate DateOfReturn ReportedDate   BodyPart     AffectedArea   Side  \\\n",
      "0  03-29-2024            -   04-01-2024  Lower Leg  Lower Extremity  Right   \n",
      "1  03-29-2024            -   04-01-2024  Lower Leg  Lower Extremity  Right   \n",
      "2  03-28-2024            -   03-28-2024       Foot  Lower Extremity   Left   \n",
      "3  03-28-2024            -   03-28-2024        Hip  Lower Extremity    NaN   \n",
      "4  03-27-2024            -   03-27-2024  Lower Leg  Lower Extremity   Left   \n",
      "5  03-27-2024            -   03-27-2024      Thigh  Lower Extremity  Right   \n",
      "6  03-27-2024            -   03-27-2024   Shoulder  Upper Extremity    NaN   \n",
      "7  03-27-2024            -   03-27-2024  Body part  General Medical    NaN   \n",
      "8  03-26-2024            -   03-26-2024      Ankle  Lower Extremity    NaN   \n",
      "9  03-26-2024            -   03-26-2024      Brain             Head    NaN   \n",
      "\n",
      "            InjuryType  ... Unnamed: 16  Unnamed: 17 Unnamed: 18 Unnamed: 19  \\\n",
      "0               Strain  ...         NaN          NaN         NaN         NaN   \n",
      "1               Strain  ...         NaN          NaN         NaN         NaN   \n",
      "2  Foot pain (finding)  ...         NaN          NaN         NaN         NaN   \n",
      "3  Piriformis Syndrome  ...         NaN          NaN         NaN         NaN   \n",
      "4                Spasm  ...         NaN          NaN         NaN         NaN   \n",
      "5               Strain  ...         NaN          NaN         NaN         NaN   \n",
      "6               Strain  ...         NaN          NaN         NaN         NaN   \n",
      "7      General Fatigue  ...         NaN          NaN         NaN         NaN   \n",
      "8               Sprain  ...         NaN          NaN         NaN         NaN   \n",
      "9           Concussion  ...         NaN          NaN         NaN         NaN   \n",
      "\n",
      "   Unnamed: 20  Unnamed: 21  Unnamed: 22  Unnamed: 23  Unnamed: 24  \\\n",
      "0          NaN          NaN          NaN          NaN          NaN   \n",
      "1          NaN          NaN          NaN          NaN          NaN   \n",
      "2          NaN          NaN          NaN          NaN          NaN   \n",
      "3          NaN          NaN          NaN          NaN          NaN   \n",
      "4          NaN          NaN          NaN          NaN          NaN   \n",
      "5          NaN          NaN          NaN          NaN          NaN   \n",
      "6          NaN          NaN          NaN          NaN          NaN   \n",
      "7          NaN          NaN          NaN          NaN          NaN   \n",
      "8          NaN          NaN          NaN          NaN          NaN   \n",
      "9          NaN          NaN          NaN          NaN          NaN   \n",
      "\n",
      "   Unnamed: 25  \n",
      "0          NaN  \n",
      "1          NaN  \n",
      "2          NaN  \n",
      "3          NaN  \n",
      "4          NaN  \n",
      "5          NaN  \n",
      "6          NaN  \n",
      "7          NaN  \n",
      "8          NaN  \n",
      "9          NaN  \n",
      "\n",
      "[10 rows x 26 columns]\n"
     ]
    }
   ],
   "source": [
    "# Repeat with relative path\n",
    "csv_march = 'march_coded_injuries.csv'\n",
    "# Load the CSV file into a DataFrame\n",
    "df_march = pd.read_csv(csv_march)\n",
    "\n",
    "# Display the first few rows of the DataFrame\n",
    "print(df_march.head(10))"
   ]
  },
  {
   "cell_type": "code",
   "execution_count": 7,
   "id": "89265771",
   "metadata": {},
   "outputs": [
    {
     "name": "stdout",
     "output_type": "stream",
     "text": [
      "      Code            Organizations ProblemDate ReportedDate     BodyPart  \\\n",
      "0  BASEB25                 Baseball  04-21-2024   04-22-2024  Respirology   \n",
      "1   MSOC26             Men's Soccer  04-20-2024   04-22-2024    Lower Leg   \n",
      "2   MT&F45      Men's Track & Field  04-18-2024   04-18-2024    Lower Leg   \n",
      "3    WSOC1            Womens Soccer  04-16-2024   04-17-2024        Thigh   \n",
      "4     FB12                 Football  04-16-2024   04-16-2024         Knee   \n",
      "5    FB100                 Football  04-15-2024   04-16-2024         Knee   \n",
      "6    MSD10  Men's Swimming & Diving  04-15-2024   04-15-2024        Wrist   \n",
      "7     WTE9           Women's Tennis  04-14-2024   04-14-2024        Brain   \n",
      "8   MT&F32      Men's Track & Field  04-13-2024   04-17-2024        Thigh   \n",
      "9     FB47                 Football  04-13-2024   04-14-2024        Wrist   \n",
      "\n",
      "      AffectedArea            Side  InjuryType                 BodyPartName  \\\n",
      "0  General Medical  Does Not Apply   Allergies                          NaN   \n",
      "1  Lower Extremity           Right    Fracture                          NaN   \n",
      "2  Lower Extremity       Bilateral  Tendinitis              Achilles Tendon   \n",
      "3  Lower Extremity           Right      Strain                          NaN   \n",
      "4  Lower Extremity            Left      Sprain  Posterior Cruciate Ligament   \n",
      "5  Lower Extremity           Right      Sprain                          NaN   \n",
      "6  Upper Extremity           Right   Contusion                          NaN   \n",
      "7             Head             NaN  Concussion                          NaN   \n",
      "8  Lower Extremity           Right      Strain     Hamstring (partial tear)   \n",
      "9  Upper Extremity             NaN    Fracture                     Scaphoid   \n",
      "\n",
      "   IncidentReportCreatedBy IncidentReportCreatedOnDate  \\\n",
      "0                      NaN                           -   \n",
      "1                      NaN                           -   \n",
      "2                      NaN                           -   \n",
      "3                      NaN                           -   \n",
      "4                      NaN                           -   \n",
      "5                      NaN                           -   \n",
      "6                      NaN                           -   \n",
      "7                      NaN                           -   \n",
      "8                      NaN                           -   \n",
      "9                      NaN                           -   \n",
      "\n",
      "                   CurrentStatus  Unnamed: 12  \n",
      "0  Returned To Play As Tolerated          NaN  \n",
      "1                    Not Cleared          NaN  \n",
      "2  Returned To Play As Tolerated          NaN  \n",
      "3  Returned To Play As Tolerated          NaN  \n",
      "4  Returned To Play As Tolerated          NaN  \n",
      "5         Waiting For Assessment          NaN  \n",
      "6               Limited Activity          NaN  \n",
      "7                    Not Cleared          NaN  \n",
      "8               Limited Activity          NaN  \n",
      "9                    Not Cleared          NaN  \n"
     ]
    }
   ],
   "source": [
    "# Repeat with relative path\n",
    "csv_april = 'april_coded_injuries.csv'\n",
    "\n",
    "df_april = pd.read_csv(csv_april)\n",
    "\n",
    "# Display the first few rows of the DataFrame\n",
    "print(df_april.head(10))"
   ]
  },
  {
   "cell_type": "markdown",
   "id": "e1e84524",
   "metadata": {},
   "source": [
    "# Cleaning "
   ]
  },
  {
   "cell_type": "code",
   "execution_count": 8,
   "id": "2f231f76",
   "metadata": {},
   "outputs": [
    {
     "name": "stdout",
     "output_type": "stream",
     "text": [
      "     Code                                 Organizations ProblemReportedBy  \\\n",
      "0     FH4                                  Field Hockey      ElyssaLaBine   \n",
      "1  WT&F21  Women's Cross Country, Women's Track & Field     ScottEnneking   \n",
      "2    FH12                                  Field Hockey      ElyssaLaBine   \n",
      "3    MTE2                                  Men's Tennis      ElyssaLaBine   \n",
      "4  MT&F24                           Men's Track & Field     ScottEnneking   \n",
      "\n",
      "  ProblemDate DateOfReturn ReportedDate BodyPart     AffectedArea   Side  \\\n",
      "0  02-28-2024            -   02-28-2024      Hip  Lower Extremity  Right   \n",
      "1  02-27-2024            -   02-27-2024    Brain             Head    NaN   \n",
      "2  02-26-2024            -   02-26-2024    Ankle  Lower Extremity  Right   \n",
      "3  02-26-2024            -   02-26-2024    Ankle  Lower Extremity  Right   \n",
      "4  02-24-2024            -   02-27-2024    Brain             Head    NaN   \n",
      "\n",
      "         InjuryType BodyPartName IncidentReportCreatedBy  \\\n",
      "0  Other Hip Injury          NaN                     NaN   \n",
      "1        Concussion          NaN                     NaN   \n",
      "2          Bursitis          NaN                     NaN   \n",
      "3          Bursitis          NaN                     NaN   \n",
      "4        Concussion          NaN                     NaN   \n",
      "\n",
      "  IncidentReportCreatedOnDate                  CurrentStatus  \n",
      "0                           -               Limited Activity  \n",
      "1                           -                    Not Cleared  \n",
      "2                           -               Limited Activity  \n",
      "3                           -  Returned To Play As Tolerated  \n",
      "4                           -               Limited Activity  \n"
     ]
    }
   ],
   "source": [
    "#\":\" selects rows and \"~\"negates th boolean mask because we are looking for things that do not meet that condition. True indicates columns that do NOT start with unnamed \n",
    "\n",
    "df_feb= df_feb.loc[:, ~df_feb.columns.str.startswith('Unnamed')]\n",
    "df_march= df_march.loc[:, ~df_march.columns.str.startswith('Unnamed')]\n",
    "df_april = df_april.loc[:, ~df_april.columns.str.startswith('Unnamed')]\n",
    "\n",
    "\n",
    "print(df_feb.head())"
   ]
  },
  {
   "cell_type": "code",
   "execution_count": 10,
   "id": "798ef386",
   "metadata": {},
   "outputs": [
    {
     "name": "stdout",
     "output_type": "stream",
     "text": [
      "      Date    Code                  Type  System Weight  Jump Height  \\\n",
      "0  4/26/24  BASEB1  Countermovement Jump        741.371       0.5048   \n",
      "1  4/23/24  BASEB1  Countermovement Jump        737.324       0.5114   \n",
      "2  4/23/24  BASEB1  Countermovement Jump        736.960       0.5321   \n",
      "3  4/19/24  BASEB1  Countermovement Jump        738.274       0.4648   \n",
      "4  4/19/24  BASEB1  Countermovement Jump        738.847       0.4862   \n",
      "5  4/16/24  BASEB1  Countermovement Jump        730.371       0.5159   \n",
      "6  4/11/24  BASEB1  Countermovement Jump        747.418       0.4882   \n",
      "7  4/11/24  BASEB1  Countermovement Jump        749.774       0.4855   \n",
      "8   4/8/24  BASEB1  Countermovement Jump        743.640       0.4991   \n",
      "9   4/4/24  BASEB1  Countermovement Jump        759.091       0.4621   \n",
      "\n",
      "   Avg. Relative Propulsive Force  Peak Relative Propulsive Force  \\\n",
      "0                        243.3486                        284.8776   \n",
      "1                        240.0391                        297.0200   \n",
      "2                        253.0553                        304.7655   \n",
      "3                        237.4899                        279.0292   \n",
      "4                        246.4701                        287.8810   \n",
      "5                        255.5076                        298.6154   \n",
      "6                        234.2015                        279.3617   \n",
      "7                        242.7374                        290.0874   \n",
      "8                        241.8177                        279.8397   \n",
      "9                        232.2554                        271.7724   \n",
      "\n",
      "   Time To Takeoff  Braking Net Impulse  Relative Peak Landing Force  \\\n",
      "0            0.679             108.4200                     815.1115   \n",
      "1            0.732             117.0568                     928.8996   \n",
      "2            0.702             114.4444                     722.0202   \n",
      "3            0.677             108.7213                     691.2068   \n",
      "4            0.681             103.4394                     702.5812   \n",
      "5            0.627             107.1332                     642.4132   \n",
      "6            0.672             113.0792                     693.8554   \n",
      "7            0.647             109.2267                     620.5870   \n",
      "8            0.701             113.6180                     504.0073   \n",
      "9            0.690             109.3323                     617.7125   \n",
      "\n",
      "   L|R Peak Landing Force  L|R Avg. Landing Force    mRSI  \\\n",
      "0                  4.6169                  4.7086  0.7435   \n",
      "1                  2.5259                 -6.9148  0.6986   \n",
      "2                 15.2791                 -2.8403  0.7580   \n",
      "3                  5.4282                 -0.0055  0.6865   \n",
      "4                  6.8002                 -6.6849  0.7139   \n",
      "5                 -5.7545                  3.7526  0.8228   \n",
      "6                 -7.9445                 -4.0216  0.7265   \n",
      "7                  1.3540                 -5.2944  0.7504   \n",
      "8                 -6.1900                 -0.8025  0.7119   \n",
      "9                -11.9642                 -8.4017  0.6697   \n",
      "\n",
      "   L|R Avg. Braking Force  \n",
      "0                 -9.6209  \n",
      "1                 -7.7152  \n",
      "2                -14.0239  \n",
      "3                 -9.4419  \n",
      "4                -10.9876  \n",
      "5                 -9.7003  \n",
      "6                 -5.4137  \n",
      "7                -12.6981  \n",
      "8                -13.3015  \n",
      "9                -12.0572  \n"
     ]
    }
   ],
   "source": [
    "# Now you can use a relative path\n",
    "csv_baseball = 'baseball_spring_data.csv'\n",
    "# Load the CSV file into a DataFrame\n",
    "df_baseball = pd.read_csv(csv_baseball)\n",
    "\n",
    "# Display the first few rows of the DataFrame\n",
    "print(df_baseball.head(10))"
   ]
  },
  {
   "cell_type": "markdown",
   "id": "1d4e126e",
   "metadata": {},
   "source": [
    "## Putting this into SQL"
   ]
  },
  {
   "cell_type": "code",
   "execution_count": 19,
   "id": "632ac121",
   "metadata": {},
   "outputs": [],
   "source": [
    "import sqlite3"
   ]
  },
  {
   "cell_type": "code",
   "execution_count": 20,
   "id": "7fe18a00",
   "metadata": {
    "scrolled": true
   },
   "outputs": [
    {
     "ename": "ModuleNotFoundError",
     "evalue": "No module named 'csvtosql'",
     "output_type": "error",
     "traceback": [
      "\u001b[0;31m---------------------------------------------------------------------------\u001b[0m",
      "\u001b[0;31mModuleNotFoundError\u001b[0m                       Traceback (most recent call last)",
      "Cell \u001b[0;32mIn[20], line 4\u001b[0m\n\u001b[1;32m      2\u001b[0m \u001b[38;5;28;01mimport\u001b[39;00m \u001b[38;5;21;01mpandas\u001b[39;00m \u001b[38;5;28;01mas\u001b[39;00m \u001b[38;5;21;01mpd\u001b[39;00m\n\u001b[1;32m      3\u001b[0m disk_engine \u001b[38;5;241m=\u001b[39m create_engine(\u001b[38;5;124m'\u001b[39m\u001b[38;5;124msqlite:////Users/maxfishbein/Documents/GitHub/denison_strength_injuries/denison_strength/baseball_spring.db\u001b[39m\u001b[38;5;124m'\u001b[39m)\n\u001b[0;32m----> 4\u001b[0m \u001b[38;5;28;01mimport\u001b[39;00m \u001b[38;5;21;01mcsvtosql\u001b[39;00m \u001b[38;5;28;01mas\u001b[39;00m \u001b[38;5;21;01mcs\u001b[39;00m\n\u001b[1;32m      5\u001b[0m cs\u001b[38;5;241m.\u001b[39mmakeFileIntoSQL(\u001b[38;5;124m'\u001b[39m\u001b[38;5;124mcoded_injuries_feb_24.csv\u001b[39m\u001b[38;5;124m'\u001b[39m, \u001b[38;5;124m'\u001b[39m\u001b[38;5;124mfeb_injuries\u001b[39m\u001b[38;5;124m'\u001b[39m,\u001b[38;5;124m'\u001b[39m\u001b[38;5;124mmarch_coded_injuries.csv\u001b[39m\u001b[38;5;124m'\u001b[39m, \u001b[38;5;124m'\u001b[39m\u001b[38;5;124mmarch_injuries\u001b[39m\u001b[38;5;124m'\u001b[39m, \u001b[38;5;124m'\u001b[39m\u001b[38;5;124mapril_coded_injuries.csv\u001b[39m\u001b[38;5;124m'\u001b[39m, \u001b[38;5;124m'\u001b[39m\u001b[38;5;124mapril_injuries\u001b[39m\u001b[38;5;124m'\u001b[39m, \u001b[38;5;124m'\u001b[39m\u001b[38;5;124mbaseball_spring_data.csv\u001b[39m\u001b[38;5;124m'\u001b[39m, \u001b[38;5;124m'\u001b[39m\u001b[38;5;124mbaseball_spring_data_fp\u001b[39m\u001b[38;5;124m'\u001b[39m, disk_engine)\n",
      "\u001b[0;31mModuleNotFoundError\u001b[0m: No module named 'csvtosql'"
     ]
    }
   ],
   "source": [
    "    from sqlalchemy import create_engine\n",
    "import pandas as pd\n",
    "    disk_engine = create_engine('sqlite:////Users/maxfishbein/Documents/GitHub/denison_strength_injuries/denison_strength/baseball_spring.db')\n",
    "import csvtosql as cs\n",
    "cs.makeFileIntoSQL('coded_injuries_feb_24.csv', 'feb_injuries','march_coded_injuries.csv', 'march_injuries', 'april_coded_injuries.csv', 'april_injuries', 'baseball_spring_data.csv', 'baseball_spring_data_fp', disk_engine)\n",
    "    \n",
    "    \n",
    "    \n",
    "    \n",
    "    \n",
    "    "
   ]
  }
 ],
 "metadata": {
  "kernelspec": {
   "display_name": "Python 3 (ipykernel)",
   "language": "python",
   "name": "python3"
  },
  "language_info": {
   "codemirror_mode": {
    "name": "ipython",
    "version": 3
   },
   "file_extension": ".py",
   "mimetype": "text/x-python",
   "name": "python",
   "nbconvert_exporter": "python",
   "pygments_lexer": "ipython3",
   "version": "3.11.5"
  }
 },
 "nbformat": 4,
 "nbformat_minor": 5
}
